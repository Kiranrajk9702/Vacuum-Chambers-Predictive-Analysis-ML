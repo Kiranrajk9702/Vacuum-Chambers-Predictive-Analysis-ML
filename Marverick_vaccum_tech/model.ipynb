{
 "cells": [
  {
   "cell_type": "code",
   "execution_count": null,
   "id": "ef29cbf7",
   "metadata": {},
   "outputs": [],
   "source": [
    "import pickle\n",
    "import pandas as pd\n",
    "\n",
    "# Load the .pkl file\n",
    "with open(r\"streamlit/vaccum_chamber_maintenance_ML.pkl\", \"rb\") as file:\n",
    "    model = pickle.load(file)\n",
    "\n",
    "print(\"✅ Model Loaded Successfully!\")\n"
   ]
  },
  {
   "cell_type": "code",
   "execution_count": null,
   "id": "16680ddc",
   "metadata": {},
   "outputs": [],
   "source": [
    "# Inspect the loaded model\n",
    "print(model)  # Print the model to understand its structure\n",
    "# If the model is a scikit-learn pipeline or estimator, you can explore its attributes\n",
    "if hasattr(model, 'get_params'):\n",
    "    print(model.get_params())  # Print model parameters"
   ]
  },
  {
   "cell_type": "code",
   "execution_count": null,
   "id": "6e796c33",
   "metadata": {},
   "outputs": [],
   "source": [
    "print(df.head())"
   ]
  }
 ],
 "metadata": {
  "kernelspec": {
   "display_name": "Python 3",
   "language": "python",
   "name": "python3"
  },
  "language_info": {
   "name": "python",
   "version": "3.10.0"
  }
 },
 "nbformat": 4,
 "nbformat_minor": 5
}
